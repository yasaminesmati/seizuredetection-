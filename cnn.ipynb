{
  "nbformat": 4,
  "nbformat_minor": 0,
  "metadata": {
    "colab": {
      "provenance": [],
      "include_colab_link": true
    },
    "kernelspec": {
      "name": "python3",
      "display_name": "Python 3"
    },
    "language_info": {
      "name": "python"
    },
    "accelerator": "GPU",
    "gpuClass": "standard"
  },
  "cells": [
    {
      "cell_type": "markdown",
      "metadata": {
        "id": "view-in-github",
        "colab_type": "text"
      },
      "source": [
        "<a href=\"https://colab.research.google.com/github/yasaminesmati/seizuredetection-/blob/main/cnn.ipynb\" target=\"_parent\"><img src=\"https://colab.research.google.com/assets/colab-badge.svg\" alt=\"Open In Colab\"/></a>"
      ]
    },
    {
      "cell_type": "markdown",
      "source": [
        "# install"
      ],
      "metadata": {
        "id": "4CoArGiF0Ncy"
      }
    },
    {
      "cell_type": "markdown",
      "source": [
        "# section -one\n",
        "ابتدا هر داده جدا خوانده شد.برای برطرف کردن نویز فیلتر  روی داده ها اعمال شد.سپس کانال های مورد نظر جداشدند.\n",
        "برای هر داده دو دیتا ست ویژگی و خود سیگنال ایجاد شد."
      ],
      "metadata": {
        "id": "lhKO2BlpV7vQ"
      }
    },
    {
      "cell_type": "code",
      "source": [
        "!pip install mne"
      ],
      "metadata": {
        "id": "8wOhhEUyitGF",
        "colab": {
          "base_uri": "https://localhost:8080/"
        },
        "outputId": "5fc9dd3e-f021-4230-9c81-e9aec18382a2"
      },
      "execution_count": null,
      "outputs": [
        {
          "output_type": "stream",
          "name": "stdout",
          "text": [
            "Looking in indexes: https://pypi.org/simple, https://us-python.pkg.dev/colab-wheels/public/simple/\n",
            "Collecting mne\n",
            "  Downloading mne-1.3.0-py3-none-any.whl (7.6 MB)\n",
            "\u001b[2K     \u001b[90m━━━━━━━━━━━━━━━━━━━━━━━━━━━━━━━━━━━━━━━━\u001b[0m \u001b[32m7.6/7.6 MB\u001b[0m \u001b[31m51.5 MB/s\u001b[0m eta \u001b[36m0:00:00\u001b[0m\n",
            "\u001b[?25hRequirement already satisfied: packaging in /usr/local/lib/python3.8/dist-packages (from mne) (23.0)\n",
            "Requirement already satisfied: decorator in /usr/local/lib/python3.8/dist-packages (from mne) (4.4.2)\n",
            "Requirement already satisfied: matplotlib in /usr/local/lib/python3.8/dist-packages (from mne) (3.2.2)\n",
            "Requirement already satisfied: jinja2 in /usr/local/lib/python3.8/dist-packages (from mne) (2.11.3)\n",
            "Requirement already satisfied: numpy>=1.15.4 in /usr/local/lib/python3.8/dist-packages (from mne) (1.21.6)\n",
            "Requirement already satisfied: tqdm in /usr/local/lib/python3.8/dist-packages (from mne) (4.64.1)\n",
            "Requirement already satisfied: pooch>=1.5 in /usr/local/lib/python3.8/dist-packages (from mne) (1.6.0)\n",
            "Requirement already satisfied: scipy>=1.1.0 in /usr/local/lib/python3.8/dist-packages (from mne) (1.7.3)\n",
            "Requirement already satisfied: requests>=2.19.0 in /usr/local/lib/python3.8/dist-packages (from pooch>=1.5->mne) (2.25.1)\n",
            "Requirement already satisfied: appdirs>=1.3.0 in /usr/local/lib/python3.8/dist-packages (from pooch>=1.5->mne) (1.4.4)\n",
            "Requirement already satisfied: MarkupSafe>=0.23 in /usr/local/lib/python3.8/dist-packages (from jinja2->mne) (2.0.1)\n",
            "Requirement already satisfied: kiwisolver>=1.0.1 in /usr/local/lib/python3.8/dist-packages (from matplotlib->mne) (1.4.4)\n",
            "Requirement already satisfied: pyparsing!=2.0.4,!=2.1.2,!=2.1.6,>=2.0.1 in /usr/local/lib/python3.8/dist-packages (from matplotlib->mne) (3.0.9)\n",
            "Requirement already satisfied: cycler>=0.10 in /usr/local/lib/python3.8/dist-packages (from matplotlib->mne) (0.11.0)\n",
            "Requirement already satisfied: python-dateutil>=2.1 in /usr/local/lib/python3.8/dist-packages (from matplotlib->mne) (2.8.2)\n",
            "Requirement already satisfied: six>=1.5 in /usr/local/lib/python3.8/dist-packages (from python-dateutil>=2.1->matplotlib->mne) (1.15.0)\n",
            "Requirement already satisfied: certifi>=2017.4.17 in /usr/local/lib/python3.8/dist-packages (from requests>=2.19.0->pooch>=1.5->mne) (2022.12.7)\n",
            "Requirement already satisfied: idna<3,>=2.5 in /usr/local/lib/python3.8/dist-packages (from requests>=2.19.0->pooch>=1.5->mne) (2.10)\n",
            "Requirement already satisfied: urllib3<1.27,>=1.21.1 in /usr/local/lib/python3.8/dist-packages (from requests>=2.19.0->pooch>=1.5->mne) (1.24.3)\n",
            "Requirement already satisfied: chardet<5,>=3.0.2 in /usr/local/lib/python3.8/dist-packages (from requests>=2.19.0->pooch>=1.5->mne) (4.0.0)\n",
            "Installing collected packages: mne\n",
            "Successfully installed mne-1.3.0\n"
          ]
        }
      ]
    },
    {
      "cell_type": "markdown",
      "source": [
        "#import\n"
      ],
      "metadata": {
        "id": "E-ahg1Ib0Yag"
      }
    },
    {
      "cell_type": "code",
      "source": [
        "import keras\n",
        "from keras.models import Sequential\n",
        "from tensorflow.keras.backend import clear_session\n",
        "from keras.layers import  Dense, Conv1D, Dropout, Flatten, BatchNormalization ,LeakyReLU,MaxPool1D,GlobalAveragePooling1D,AveragePooling1D, concatenate\n",
        "from keras.callbacks import EarlyStopping"
      ],
      "metadata": {
        "id": "LLOFRy7tTawH"
      },
      "execution_count": 50,
      "outputs": []
    },
    {
      "cell_type": "code",
      "execution_count": 51,
      "metadata": {
        "id": "4CQJr1ujiiMV"
      },
      "outputs": [],
      "source": [
        "import numpy as np\n",
        "import mne\n",
        "import pandas as pd\n",
        "import csv\n",
        "import sys\n",
        "import math\n",
        "from scipy import stats\n",
        "from scipy.fft import fft, ifft\n",
        "import matplotlib.pyplot as plt\n",
        "from sklearn.model_selection import train_test_split, KFold\n",
        "from sklearn import tree\n",
        "from sklearn.metrics import accuracy_score, confusion_matrix, classification_report\n",
        "import keras\n",
        "from keras.models import Sequential\n",
        "from keras.layers import  Dense, Conv3D, Dropout, Flatten, BatchNormalization \n",
        "from keras.callbacks import EarlyStopping\n",
        "from random import shuffle\n",
        "import seaborn as sns\n",
        "import re\n",
        "import os\n",
        "from pandas import read_csv\n",
        "from sklearn.feature_selection import RFE\n",
        "from sklearn.linear_model import LogisticRegression"
      ]
    },
    {
      "cell_type": "markdown",
      "source": [
        "# read the data"
      ],
      "metadata": {
        "id": "-qcZ528Wan4W"
      }
    },
    {
      "cell_type": "code",
      "source": [
        "edf_file_names=\"content/chb01_26.edf\"\n",
        "# base_path=\"/content/\"\n",
        "# subject_id=1\n",
        "# summary_file = os.path.join(base_path, \"chb{:02d}-summary.txt\".format(subject_id, subject_id))\n",
        "# summary_content = open(summary_file,'r').read()"
      ],
      "metadata": {
        "id": "myrsl5QWNqgX"
      },
      "execution_count": null,
      "outputs": []
    },
    {
      "cell_type": "code",
      "source": [
        "edf= mne.io.read_raw_edf('/content/chb03_01.edf',preload=True)\n",
        "drop_ch= edf.ch_names[:16]\n",
        "edf2=edf.drop_channels(drop_ch)\n",
        "drop_ch_two=edf2.ch_names[2:]\n",
        "edf2=edf2.drop_channels(drop_ch_two)\n",
        "edf3=edf2.filter(l_freq=0.5,h_freq=45)\n",
        "#epochs=mne.make_fixed_length_epochs(edf3,duration=10,overlap=1)\n",
        "edf3=edf3.get_data()\n",
        "len(edf3)"
      ],
      "metadata": {
        "id": "M7_9E4h1iyUQ",
        "colab": {
          "base_uri": "https://localhost:8080/"
        },
        "outputId": "a5f2dd68-1ec4-47cd-af02-0d910873ac1a"
      },
      "execution_count": null,
      "outputs": [
        {
          "output_type": "stream",
          "name": "stdout",
          "text": [
            "Extracting EDF parameters from /content/chb03_01.edf...\n",
            "EDF file detected\n",
            "Setting channel info structure...\n",
            "Creating raw.info structure...\n",
            "Reading 0 ... 921599  =      0.000 ...  3599.996 secs...\n"
          ]
        },
        {
          "output_type": "stream",
          "name": "stderr",
          "text": [
            "<ipython-input-361-396ec37b3688>:1: RuntimeWarning: Channel names are not unique, found duplicates for: {'T8-P8'}. Applying running numbers for duplicates.\n",
            "  edf= mne.io.read_raw_edf('/content/chb03_01.edf',preload=True)\n"
          ]
        },
        {
          "output_type": "stream",
          "name": "stdout",
          "text": [
            "Filtering raw data in 1 contiguous segment\n",
            "Setting up band-pass filter from 0.5 - 45 Hz\n",
            "\n",
            "FIR filter parameters\n",
            "---------------------\n",
            "Designing a one-pass, zero-phase, non-causal bandpass filter:\n",
            "- Windowed time-domain design (firwin) method\n",
            "- Hamming window with 0.0194 passband ripple and 53 dB stopband attenuation\n",
            "- Lower passband edge: 0.50\n",
            "- Lower transition bandwidth: 0.50 Hz (-6 dB cutoff frequency: 0.25 Hz)\n",
            "- Upper passband edge: 45.00 Hz\n",
            "- Upper transition bandwidth: 11.25 Hz (-6 dB cutoff frequency: 50.62 Hz)\n",
            "- Filter length: 1691 samples (6.605 sec)\n",
            "\n"
          ]
        },
        {
          "output_type": "stream",
          "name": "stderr",
          "text": [
            "[Parallel(n_jobs=1)]: Using backend SequentialBackend with 1 concurrent workers.\n",
            "[Parallel(n_jobs=1)]: Done   1 out of   1 | elapsed:    0.1s remaining:    0.0s\n",
            "[Parallel(n_jobs=1)]: Done   2 out of   2 | elapsed:    0.1s remaining:    0.0s\n",
            "[Parallel(n_jobs=1)]: Done   2 out of   2 | elapsed:    0.1s finished\n"
          ]
        },
        {
          "output_type": "execute_result",
          "data": {
            "text/plain": [
              "2"
            ]
          },
          "metadata": {},
          "execution_count": 361
        }
      ]
    },
    {
      "cell_type": "markdown",
      "source": [
        "# feature extraction"
      ],
      "metadata": {
        "id": "C47EX-8fate_"
      }
    },
    {
      "cell_type": "code",
      "source": [
        "def mean_variance(df):\n",
        "    variance_vals = np.var(df)\n",
        "    return np.mean(variance_vals)\n",
        "\n",
        "def median_variance(df):\n",
        "  \n",
        "    variance_vals = np.var(df)\n",
        "    return np.median(variance_vals)\n",
        "\n",
        "def max(df):\n",
        "    return np.max(df)\n",
        "\n",
        "def min(df):\n",
        "    return np.min(df)\n",
        "\n",
        "def ptp(df):\n",
        "    return np.ptp(df)\n",
        "\n",
        "def skew(x):\n",
        "    return stats.skew(x)\n",
        "\n",
        "def kurtosis(x):\n",
        "    return stats.kurtosis(x)\n",
        "\n",
        "def Mean(x):\n",
        "  resp = np.mean(x)\n",
        "  return resp\n",
        "\n",
        "def Std(x):\n",
        "  resp = np.std(x)\n",
        "  return resp\n",
        "\n",
        "def Power(x):\n",
        "  F = np.fft.fft(x)\n",
        "  P = F * np.conjugate(F)\n",
        "  resp = sum(P)\n",
        "  return resp\n",
        "\n",
        "def fourier(x):\n",
        "  resp = fft(x)\n",
        "  return np.mean(resp)"
      ],
      "metadata": {
        "id": "bX5YVMBZj7lW"
      },
      "execution_count": null,
      "outputs": []
    },
    {
      "cell_type": "code",
      "source": [
        "#window function to work over data and calculate features\n",
        "def add_feature(edf_file, start, duration, seizure_start, seizure_end):\n",
        "    d = edf_file[:,256*start:256*(start+duration)]\n",
        "    row_to_add = []\n",
        "    mean_var = mean_variance(d[0])\n",
        "    \n",
        "    med_var = median_variance(d[0])\n",
        "    maximum = max(d[0])\n",
        "    minimum = min(d[0])\n",
        "    ptpp = ptp(d[0])\n",
        "    skewness = skew(d[0])\n",
        "    mean = Mean(d[0])\n",
        "    std = Std(d[0])\n",
        "    pow = Power(d[0])\n",
        "    fft = fourier(d[0])\n",
        "    \n",
        "    if start in range(seizure_start, seizure_end):\n",
        "        t = 1\n",
        "    else:\n",
        "        t = 0\n",
        "    row_to_add.append(mean_var)\n",
        "    row_to_add.append(med_var)\n",
        "    row_to_add.append(maximum)\n",
        "    row_to_add.append(minimum)\n",
        "    row_to_add.append(ptpp)\n",
        "    row_to_add.append(skewness)\n",
        "    row_to_add.append(mean)\n",
        "    row_to_add.append(std)\n",
        "    row_to_add.append(pow)\n",
        "    row_to_add.append(fft)\n",
        "\n",
        "    row_to_add.append(start)\n",
        "    row_to_add.append(t)\n",
        "    return row_to_add"
      ],
      "metadata": {
        "id": "bg6DWSXDj-zm"
      },
      "execution_count": null,
      "outputs": []
    },
    {
      "cell_type": "code",
      "source": [
        "#window function to work over data and calculate features\n",
        "def add_signal(edf_file, start, duration, seizure_start, seizure_end):\n",
        "    d = edf_file[:,256*start:256*(start+duration)]\n",
        "    row_to_add = []\n",
        "    \n",
        "    if start in range(seizure_start, seizure_end):\n",
        "        t = 1\n",
        "    else:\n",
        "        t = 0\n",
        "\n",
        "    row_to_add.append(d[0])\n",
        "    row_to_add.append(d[1])\n",
        "\n",
        "    row_to_add.append(t)\n",
        "    # print(row_to_add[2])\n",
        "    return row_to_add"
      ],
      "metadata": {
        "id": "MR8fKffBGaXG"
      },
      "execution_count": null,
      "outputs": []
    },
    {
      "cell_type": "code",
      "source": [
        "df = pd.DataFrame()\n",
        "signals = pd.DataFrame()"
      ],
      "metadata": {
        "id": "zPZcfBQrpfv2"
      },
      "execution_count": null,
      "outputs": []
    },
    {
      "cell_type": "code",
      "source": [
        "from pandas.io import excel\n",
        "#driver code\n",
        "start = temp = 350\n",
        "duration = 10\n",
        "end = 420\n",
        "seizure_start = 362      \n",
        "seizure_end = 414     \n",
        "\n",
        "# with open('Training_Data.csv', 'a') as file:\n",
        "#     writer = csv.writer(file)\n",
        "while temp < end:    \n",
        "        row = add_feature(edf2, temp, duration, seizure_start, seizure_end)\n",
        "        df = df.append(pd.Series(row), ignore_index=True)\n",
        "\n",
        "        row2 = add_signal(edf3, temp, duration, seizure_start, seizure_end)\n",
        "        signals = signals.append(pd.Series(row2), ignore_index=True)\n",
        "        temp = temp +1\n"
      ],
      "metadata": {
        "id": "AvwtltUSkIDn"
      },
      "execution_count": null,
      "outputs": []
    },
    {
      "cell_type": "code",
      "source": [
        "signals.to_excel('./03-01-original.xlsx',columns=signals.columns)\n"
      ],
      "metadata": {
        "id": "oi823bgAr_nK"
      },
      "execution_count": null,
      "outputs": []
    },
    {
      "cell_type": "code",
      "source": [
        "df.to_excel('./03-01-feature.xlsx',columns=df.columns)"
      ],
      "metadata": {
        "id": "sHiDtqeEAY_u"
      },
      "execution_count": null,
      "outputs": []
    },
    {
      "cell_type": "markdown",
      "source": [
        "#concat all the data"
      ],
      "metadata": {
        "id": "4mqRbSxca17L"
      }
    },
    {
      "cell_type": "code",
      "source": [
        "one=pd.read_excel(\"/content/01-03-original.xlsx\")\n",
        "two=pd.read_excel(\"/content/01-04-original.xlsx\")\n",
        "three=pd.read_excel(\"/content/01-15-original.xlsx\")\n",
        "four=pd.read_excel(\"/content/01-16-original.xlsx\")\n",
        "five=pd.read_excel(\"/content/01-18-original.xlsx\")\n",
        "six=pd.read_excel(\"/content/01-21-original.xlsx\")\n",
        "seven=pd.read_excel(\"/content/01-26-original.xlsx\")\n",
        "eight=pd.read_excel(\"/content/02-16-original.xlsx\")\n",
        "nine=pd.read_excel(\"/content/02-16plus-original.xlsx\")\n",
        "ten=pd.read_excel(\"/content/02-19plus-original.xlsx\")\n",
        "eleven=pd.read_excel(\"/content/03-01-original.xlsx\")"
      ],
      "metadata": {
        "id": "dDko65F6M995"
      },
      "execution_count": null,
      "outputs": []
    },
    {
      "cell_type": "code",
      "source": [
        "final_original=pd.concat([one,two,three,four,five,six,seven,eight,nine,ten,eleven])"
      ],
      "metadata": {
        "id": "wmJhvX2HMMr9"
      },
      "execution_count": null,
      "outputs": []
    },
    {
      "cell_type": "code",
      "source": [
        "final_original.to_excel('./final-original.xlsx',columns=final_original.columns)"
      ],
      "metadata": {
        "id": "a-nWvamTMlde"
      },
      "execution_count": null,
      "outputs": []
    },
    {
      "cell_type": "code",
      "source": [
        "final_feature=pd.read_excel(\"/content/final-feature.xlsx\")"
      ],
      "metadata": {
        "id": "Q-pRfGQqPokI"
      },
      "execution_count": null,
      "outputs": []
    },
    {
      "cell_type": "code",
      "source": [
        "final_feature.columns"
      ],
      "metadata": {
        "colab": {
          "base_uri": "https://localhost:8080/"
        },
        "id": "gLndcN0YPzMU",
        "outputId": "5f9d5f2a-11bf-4b65-c306-42e74875998c"
      },
      "execution_count": null,
      "outputs": [
        {
          "output_type": "execute_result",
          "data": {
            "text/plain": [
              "Index(['Unnamed: 0', 'Unnamed: 0.1', 0, 1, 2, 3, 4, 5, 6, 7, 8, 9, 10, 11], dtype='object')"
            ]
          },
          "metadata": {},
          "execution_count": 468
        }
      ]
    },
    {
      "cell_type": "code",
      "source": [
        "final_feature.columns=['f1','f2','f3','f4','f5','f6','f7','f8','f9','f10','f11','f12','f13','label']"
      ],
      "metadata": {
        "id": "qH_ixwa0G4Zh"
      },
      "execution_count": null,
      "outputs": []
    },
    {
      "cell_type": "code",
      "source": [
        "final_feature=final_feature.drop(columns=['f1','f2','f8','f11'])"
      ],
      "metadata": {
        "id": "gZltr2lISRzo"
      },
      "execution_count": null,
      "outputs": []
    },
    {
      "cell_type": "code",
      "source": [
        "final_feature=final_feature.drop(columns=['f12'])"
      ],
      "metadata": {
        "id": "QVgq1HHlS0hg"
      },
      "execution_count": null,
      "outputs": []
    },
    {
      "cell_type": "markdown",
      "source": [
        "# feature extraction method"
      ],
      "metadata": {
        "id": "smiX2fgca8fW"
      }
    },
    {
      "cell_type": "code",
      "source": [
        "final_original = pd.read_excel('final-original.xlsx')\n",
        "final_feature_extraction = pd.read_excel('final_feature_extraction.xlsx')\n",
        "final_feature = pd.read_excel('final-feature.xlsx')"
      ],
      "metadata": {
        "id": "xy5MzhNncRmx"
      },
      "execution_count": null,
      "outputs": []
    },
    {
      "cell_type": "code",
      "source": [
        "def correlation(dataset):\n",
        "    corr_matrix = dataset.corr(method='pearson')\n",
        "    return corr_matrix"
      ],
      "metadata": {
        "id": "PpSs5IWDQ9cQ"
      },
      "execution_count": null,
      "outputs": []
    },
    {
      "cell_type": "code",
      "source": [
        "corr_features = correlation(final_feature)"
      ],
      "metadata": {
        "id": "IjNPI6zRRAou"
      },
      "execution_count": null,
      "outputs": []
    },
    {
      "cell_type": "code",
      "source": [
        "y=final_feature.loc[:, 11]\n",
        "y"
      ],
      "metadata": {
        "id": "wkGYBHyGUCF1",
        "colab": {
          "base_uri": "https://localhost:8080/"
        },
        "outputId": "c7db1403-fddf-40de-a061-aac60bf36c9d"
      },
      "execution_count": null,
      "outputs": [
        {
          "output_type": "execute_result",
          "data": {
            "text/plain": [
              "0       0\n",
              "1       0\n",
              "2       0\n",
              "3       0\n",
              "4       0\n",
              "       ..\n",
              "1555    0\n",
              "1556    0\n",
              "1557    0\n",
              "1558    0\n",
              "1559    0\n",
              "Name: 11, Length: 1560, dtype: int64"
            ]
          },
          "metadata": {},
          "execution_count": 17
        }
      ]
    },
    {
      "cell_type": "code",
      "source": [
        "final_feature=final_feature.drop(columns=11)\n",
        "final_feature"
      ],
      "metadata": {
        "id": "Yp_g1W6cT78g"
      },
      "execution_count": null,
      "outputs": []
    },
    {
      "cell_type": "code",
      "source": [
        "accuracy_dict=dict()\n",
        "for feature in final_feature:\n",
        "    x_train,x_test,y_train,y_test=train_test_split(final_feature[feature].values.reshape(-1,1),y,random_state=42,test_size=0.2)\n",
        "    classifier=tree.DecisionTreeClassifier().fit(x_train,y_train)\n",
        "    prediction=classifier.predict(x_test)\n",
        "    accuracy_test=accuracy_score(y_test,prediction)\n",
        "    accuracy_dict[feature]=accuracy_test   "
      ],
      "metadata": {
        "id": "JYkvwnSARGHK",
        "colab": {
          "base_uri": "https://localhost:8080/",
          "height": 415
        },
        "outputId": "c5c1c674-803e-4d71-dc1c-e3e9c00571ab"
      },
      "execution_count": null,
      "outputs": [
        {
          "output_type": "error",
          "ename": "ValueError",
          "evalue": "ignored",
          "traceback": [
            "\u001b[0;31m---------------------------------------------------------------------------\u001b[0m",
            "\u001b[0;31mValueError\u001b[0m                                Traceback (most recent call last)",
            "\u001b[0;32m<ipython-input-21-26b2af410212>\u001b[0m in \u001b[0;36m<module>\u001b[0;34m\u001b[0m\n\u001b[1;32m      2\u001b[0m \u001b[0;32mfor\u001b[0m \u001b[0mfeature\u001b[0m \u001b[0;32min\u001b[0m \u001b[0mfinal_feature\u001b[0m\u001b[0;34m:\u001b[0m\u001b[0;34m\u001b[0m\u001b[0;34m\u001b[0m\u001b[0m\n\u001b[1;32m      3\u001b[0m     \u001b[0mx_train\u001b[0m\u001b[0;34m,\u001b[0m\u001b[0mx_test\u001b[0m\u001b[0;34m,\u001b[0m\u001b[0my_train\u001b[0m\u001b[0;34m,\u001b[0m\u001b[0my_test\u001b[0m\u001b[0;34m=\u001b[0m\u001b[0mtrain_test_split\u001b[0m\u001b[0;34m(\u001b[0m\u001b[0mfinal_feature\u001b[0m\u001b[0;34m[\u001b[0m\u001b[0mfeature\u001b[0m\u001b[0;34m]\u001b[0m\u001b[0;34m.\u001b[0m\u001b[0mvalues\u001b[0m\u001b[0;34m.\u001b[0m\u001b[0mreshape\u001b[0m\u001b[0;34m(\u001b[0m\u001b[0;34m-\u001b[0m\u001b[0;36m1\u001b[0m\u001b[0;34m,\u001b[0m\u001b[0;36m1\u001b[0m\u001b[0;34m)\u001b[0m\u001b[0;34m,\u001b[0m\u001b[0my\u001b[0m\u001b[0;34m,\u001b[0m\u001b[0mrandom_state\u001b[0m\u001b[0;34m=\u001b[0m\u001b[0;36m42\u001b[0m\u001b[0;34m,\u001b[0m\u001b[0mtest_size\u001b[0m\u001b[0;34m=\u001b[0m\u001b[0;36m0.2\u001b[0m\u001b[0;34m)\u001b[0m\u001b[0;34m\u001b[0m\u001b[0;34m\u001b[0m\u001b[0m\n\u001b[0;32m----> 4\u001b[0;31m     \u001b[0mclassifier\u001b[0m\u001b[0;34m=\u001b[0m\u001b[0mtree\u001b[0m\u001b[0;34m.\u001b[0m\u001b[0mDecisionTreeClassifier\u001b[0m\u001b[0;34m(\u001b[0m\u001b[0;34m)\u001b[0m\u001b[0;34m.\u001b[0m\u001b[0mfit\u001b[0m\u001b[0;34m(\u001b[0m\u001b[0mx_train\u001b[0m\u001b[0;34m,\u001b[0m\u001b[0my_train\u001b[0m\u001b[0;34m)\u001b[0m\u001b[0;34m\u001b[0m\u001b[0;34m\u001b[0m\u001b[0m\n\u001b[0m\u001b[1;32m      5\u001b[0m     \u001b[0mprediction\u001b[0m\u001b[0;34m=\u001b[0m\u001b[0mclassifier\u001b[0m\u001b[0;34m.\u001b[0m\u001b[0mpredict\u001b[0m\u001b[0;34m(\u001b[0m\u001b[0mx_test\u001b[0m\u001b[0;34m)\u001b[0m\u001b[0;34m\u001b[0m\u001b[0;34m\u001b[0m\u001b[0m\n\u001b[1;32m      6\u001b[0m     \u001b[0maccuracy_test\u001b[0m\u001b[0;34m=\u001b[0m\u001b[0maccuracy_score\u001b[0m\u001b[0;34m(\u001b[0m\u001b[0my_test\u001b[0m\u001b[0;34m,\u001b[0m\u001b[0mprediction\u001b[0m\u001b[0;34m)\u001b[0m\u001b[0;34m\u001b[0m\u001b[0;34m\u001b[0m\u001b[0m\n",
            "\u001b[0;32m/usr/local/lib/python3.8/dist-packages/sklearn/tree/_classes.py\u001b[0m in \u001b[0;36mfit\u001b[0;34m(self, X, y, sample_weight, check_input, X_idx_sorted)\u001b[0m\n\u001b[1;32m    935\u001b[0m         \"\"\"\n\u001b[1;32m    936\u001b[0m \u001b[0;34m\u001b[0m\u001b[0m\n\u001b[0;32m--> 937\u001b[0;31m         super().fit(\n\u001b[0m\u001b[1;32m    938\u001b[0m             \u001b[0mX\u001b[0m\u001b[0;34m,\u001b[0m\u001b[0;34m\u001b[0m\u001b[0;34m\u001b[0m\u001b[0m\n\u001b[1;32m    939\u001b[0m             \u001b[0my\u001b[0m\u001b[0;34m,\u001b[0m\u001b[0;34m\u001b[0m\u001b[0;34m\u001b[0m\u001b[0m\n",
            "\u001b[0;32m/usr/local/lib/python3.8/dist-packages/sklearn/tree/_classes.py\u001b[0m in \u001b[0;36mfit\u001b[0;34m(self, X, y, sample_weight, check_input, X_idx_sorted)\u001b[0m\n\u001b[1;32m    163\u001b[0m             \u001b[0mcheck_X_params\u001b[0m \u001b[0;34m=\u001b[0m \u001b[0mdict\u001b[0m\u001b[0;34m(\u001b[0m\u001b[0mdtype\u001b[0m\u001b[0;34m=\u001b[0m\u001b[0mDTYPE\u001b[0m\u001b[0;34m,\u001b[0m \u001b[0maccept_sparse\u001b[0m\u001b[0;34m=\u001b[0m\u001b[0;34m\"csc\"\u001b[0m\u001b[0;34m)\u001b[0m\u001b[0;34m\u001b[0m\u001b[0;34m\u001b[0m\u001b[0m\n\u001b[1;32m    164\u001b[0m             \u001b[0mcheck_y_params\u001b[0m \u001b[0;34m=\u001b[0m \u001b[0mdict\u001b[0m\u001b[0;34m(\u001b[0m\u001b[0mensure_2d\u001b[0m\u001b[0;34m=\u001b[0m\u001b[0;32mFalse\u001b[0m\u001b[0;34m,\u001b[0m \u001b[0mdtype\u001b[0m\u001b[0;34m=\u001b[0m\u001b[0;32mNone\u001b[0m\u001b[0;34m)\u001b[0m\u001b[0;34m\u001b[0m\u001b[0;34m\u001b[0m\u001b[0m\n\u001b[0;32m--> 165\u001b[0;31m             X, y = self._validate_data(\n\u001b[0m\u001b[1;32m    166\u001b[0m                 \u001b[0mX\u001b[0m\u001b[0;34m,\u001b[0m \u001b[0my\u001b[0m\u001b[0;34m,\u001b[0m \u001b[0mvalidate_separately\u001b[0m\u001b[0;34m=\u001b[0m\u001b[0;34m(\u001b[0m\u001b[0mcheck_X_params\u001b[0m\u001b[0;34m,\u001b[0m \u001b[0mcheck_y_params\u001b[0m\u001b[0;34m)\u001b[0m\u001b[0;34m\u001b[0m\u001b[0;34m\u001b[0m\u001b[0m\n\u001b[1;32m    167\u001b[0m             )\n",
            "\u001b[0;32m/usr/local/lib/python3.8/dist-packages/sklearn/base.py\u001b[0m in \u001b[0;36m_validate_data\u001b[0;34m(self, X, y, reset, validate_separately, **check_params)\u001b[0m\n\u001b[1;32m    576\u001b[0m                 \u001b[0;31m# :(\u001b[0m\u001b[0;34m\u001b[0m\u001b[0;34m\u001b[0m\u001b[0;34m\u001b[0m\u001b[0m\n\u001b[1;32m    577\u001b[0m                 \u001b[0mcheck_X_params\u001b[0m\u001b[0;34m,\u001b[0m \u001b[0mcheck_y_params\u001b[0m \u001b[0;34m=\u001b[0m \u001b[0mvalidate_separately\u001b[0m\u001b[0;34m\u001b[0m\u001b[0;34m\u001b[0m\u001b[0m\n\u001b[0;32m--> 578\u001b[0;31m                 \u001b[0mX\u001b[0m \u001b[0;34m=\u001b[0m \u001b[0mcheck_array\u001b[0m\u001b[0;34m(\u001b[0m\u001b[0mX\u001b[0m\u001b[0;34m,\u001b[0m \u001b[0;34m**\u001b[0m\u001b[0mcheck_X_params\u001b[0m\u001b[0;34m)\u001b[0m\u001b[0;34m\u001b[0m\u001b[0;34m\u001b[0m\u001b[0m\n\u001b[0m\u001b[1;32m    579\u001b[0m                 \u001b[0my\u001b[0m \u001b[0;34m=\u001b[0m \u001b[0mcheck_array\u001b[0m\u001b[0;34m(\u001b[0m\u001b[0my\u001b[0m\u001b[0;34m,\u001b[0m \u001b[0;34m**\u001b[0m\u001b[0mcheck_y_params\u001b[0m\u001b[0;34m)\u001b[0m\u001b[0;34m\u001b[0m\u001b[0;34m\u001b[0m\u001b[0m\n\u001b[1;32m    580\u001b[0m             \u001b[0;32melse\u001b[0m\u001b[0;34m:\u001b[0m\u001b[0;34m\u001b[0m\u001b[0;34m\u001b[0m\u001b[0m\n",
            "\u001b[0;32m/usr/local/lib/python3.8/dist-packages/sklearn/utils/validation.py\u001b[0m in \u001b[0;36mcheck_array\u001b[0;34m(array, accept_sparse, accept_large_sparse, dtype, order, copy, force_all_finite, ensure_2d, allow_nd, ensure_min_samples, ensure_min_features, estimator)\u001b[0m\n\u001b[1;32m    744\u001b[0m                     \u001b[0marray\u001b[0m \u001b[0;34m=\u001b[0m \u001b[0marray\u001b[0m\u001b[0;34m.\u001b[0m\u001b[0mastype\u001b[0m\u001b[0;34m(\u001b[0m\u001b[0mdtype\u001b[0m\u001b[0;34m,\u001b[0m \u001b[0mcasting\u001b[0m\u001b[0;34m=\u001b[0m\u001b[0;34m\"unsafe\"\u001b[0m\u001b[0;34m,\u001b[0m \u001b[0mcopy\u001b[0m\u001b[0;34m=\u001b[0m\u001b[0;32mFalse\u001b[0m\u001b[0;34m)\u001b[0m\u001b[0;34m\u001b[0m\u001b[0;34m\u001b[0m\u001b[0m\n\u001b[1;32m    745\u001b[0m                 \u001b[0;32melse\u001b[0m\u001b[0;34m:\u001b[0m\u001b[0;34m\u001b[0m\u001b[0;34m\u001b[0m\u001b[0m\n\u001b[0;32m--> 746\u001b[0;31m                     \u001b[0marray\u001b[0m \u001b[0;34m=\u001b[0m \u001b[0mnp\u001b[0m\u001b[0;34m.\u001b[0m\u001b[0masarray\u001b[0m\u001b[0;34m(\u001b[0m\u001b[0marray\u001b[0m\u001b[0;34m,\u001b[0m \u001b[0morder\u001b[0m\u001b[0;34m=\u001b[0m\u001b[0morder\u001b[0m\u001b[0;34m,\u001b[0m \u001b[0mdtype\u001b[0m\u001b[0;34m=\u001b[0m\u001b[0mdtype\u001b[0m\u001b[0;34m)\u001b[0m\u001b[0;34m\u001b[0m\u001b[0;34m\u001b[0m\u001b[0m\n\u001b[0m\u001b[1;32m    747\u001b[0m             \u001b[0;32mexcept\u001b[0m \u001b[0mComplexWarning\u001b[0m \u001b[0;32mas\u001b[0m \u001b[0mcomplex_warning\u001b[0m\u001b[0;34m:\u001b[0m\u001b[0;34m\u001b[0m\u001b[0;34m\u001b[0m\u001b[0m\n\u001b[1;32m    748\u001b[0m                 raise ValueError(\n",
            "\u001b[0;31mValueError\u001b[0m: could not convert string to float: '[-1.72219033e-16  2.74529910e-16  0.00000000e+00 ...  0.00000000e+00\\n  0.00000000e+00  0.00000000e+00]'"
          ]
        }
      ]
    },
    {
      "cell_type": "code",
      "source": [
        "accuracy_dict"
      ],
      "metadata": {
        "colab": {
          "base_uri": "https://localhost:8080/"
        },
        "id": "AX_1ey4RS58Z",
        "outputId": "1a4e8499-244d-469e-a582-e99ae01119f2"
      },
      "execution_count": null,
      "outputs": [
        {
          "output_type": "execute_result",
          "data": {
            "text/plain": [
              "{'f3': 0.5416666666666666,\n",
              " 'f4': 0.5416666666666666,\n",
              " 'f5': 0.9198717948717948,\n",
              " 'f6': 0.9102564102564102,\n",
              " 'f7': 0.8878205128205128,\n",
              " 'f9': 0.5544871794871795,\n",
              " 'f10': 0.6923076923076923,\n",
              " 'f13': 0.8141025641025641}"
            ]
          },
          "metadata": {},
          "execution_count": 453
        }
      ]
    },
    {
      "cell_type": "code",
      "source": [
        "def select_feature(chosen_features: list):\n",
        "    chosen = (None, 0)\n",
        "    candidate = (None, 0)\n",
        "    for feature in final_feature:\n",
        "        if feature not in chosen_features:\n",
        "            corelationtest = 1\n",
        "            for features in chosen_features:\n",
        "                if corr_features[feature][features] < corelationtest:\n",
        "                    corelationtest = corr_features[feature][features]\n",
        "            corelationtest = 1 - corelationtest\n",
        "            f1 = 2*((corelationtest* accuracy_dict[feature])/(corelationtest+accuracy_dict[feature]))\n",
        "            # return(f1)\n",
        "            candidate = (feature, f1)\n",
        "        if candidate[1] > chosen[1]:\n",
        "            chosen = candidate\n",
        "            print(chosen)\n",
        "    return chosen[0]\n"
      ],
      "metadata": {
        "id": "NZnPhsVbS-Hx"
      },
      "execution_count": null,
      "outputs": []
    },
    {
      "cell_type": "code",
      "source": [
        "chosen_features = ['f6']\n",
        "for i in range(6):\n",
        "    chosen_features.append(select_feature(chosen_features))\n",
        "print(chosen_features)"
      ],
      "metadata": {
        "colab": {
          "base_uri": "https://localhost:8080/"
        },
        "id": "Gdb0aYssTrvw",
        "outputId": "93be84f2-260d-4cec-a16a-3a512eea0a77"
      },
      "execution_count": null,
      "outputs": [
        {
          "output_type": "stream",
          "name": "stdout",
          "text": [
            "('f3', 0.8290728319072462)\n",
            "('f5', 1.2212107223142277)\n",
            "('f3', 0.8290728319072462)\n",
            "('f7', 1.2202144635014978)\n",
            "('f3', 0.8290728319072462)\n",
            "('f10', 0.9971517310328817)\n",
            "('f3', 0.8290728319072462)\n",
            "('f13', 0.9483067097223454)\n",
            "('f3', 0.8290728319072462)\n",
            "('f4', 0.8290728319072462)\n",
            "['f6', 'f5', 'f7', 'f10', 'f13', 'f3', 'f4']\n"
          ]
        }
      ]
    },
    {
      "cell_type": "code",
      "source": [
        "final_feature.columns\n"
      ],
      "metadata": {
        "colab": {
          "base_uri": "https://localhost:8080/"
        },
        "id": "TSn32WJLU2uV",
        "outputId": "464ce40d-fa0a-4c75-cce2-6fff2950e718"
      },
      "execution_count": null,
      "outputs": [
        {
          "output_type": "execute_result",
          "data": {
            "text/plain": [
              "Index(['f1', 'f2', 'f3', 'f4', 'f5', 'f6', 'f7', 'f8', 'f9', 'f10', 'f11',\n",
              "       'f12', 'f13', 'label'],\n",
              "      dtype='object')"
            ]
          },
          "metadata": {},
          "execution_count": 470
        }
      ]
    },
    {
      "cell_type": "code",
      "source": [
        "final_feature_extraction=final_feature.drop(columns=['f1','f2','f8','f9','f11','f12'])"
      ],
      "metadata": {
        "id": "EDQ3FPL0UR_z"
      },
      "execution_count": null,
      "outputs": []
    },
    {
      "cell_type": "code",
      "source": [
        "final_feature_extraction.columns"
      ],
      "metadata": {
        "colab": {
          "base_uri": "https://localhost:8080/"
        },
        "id": "IgqEn2tDVTUg",
        "outputId": "b84d380b-eb4e-4eb9-faef-c72c95eb6c0f"
      },
      "execution_count": null,
      "outputs": [
        {
          "output_type": "execute_result",
          "data": {
            "text/plain": [
              "Index(['f3', 'f4', 'f5', 'f6', 'f7', 'f10', 'f13', 'label'], dtype='object')"
            ]
          },
          "metadata": {},
          "execution_count": 472
        }
      ]
    },
    {
      "cell_type": "code",
      "source": [
        "final_feature_extraction.to_excel('./final_feature_extraction.xlsx',columns=final_feature_extraction.columns)"
      ],
      "metadata": {
        "id": "kZiUzUdgVZJA"
      },
      "execution_count": null,
      "outputs": []
    },
    {
      "cell_type": "markdown",
      "source": [
        "# cnn\n"
      ],
      "metadata": {
        "id": "oGCpgIR2V9sb"
      }
    },
    {
      "cell_type": "code",
      "source": [
        "final_original.shape"
      ],
      "metadata": {
        "colab": {
          "base_uri": "https://localhost:8080/"
        },
        "id": "rN7DfdV7uc3B",
        "outputId": "0261080b-fd52-4f15-fc5e-1ab105d17070"
      },
      "execution_count": 65,
      "outputs": [
        {
          "output_type": "execute_result",
          "data": {
            "text/plain": [
              "(1560, 3)"
            ]
          },
          "metadata": {},
          "execution_count": 65
        }
      ]
    },
    {
      "cell_type": "code",
      "source": [
        "def cnnmodel():\n",
        "  clear_session()\n",
        "  model=Sequential()\n",
        "\n",
        "  x1 = Conv1D(filters=5,kernel_size=3,strides=1,input_shape=(1560, 3))(final_original)\n",
        "  x2 = Conv1D(filters=5,kernel_size=3,strides=1)(final_feature_extraction)\n",
        "  x = concatenate([x1,x2])\n",
        "  \n",
        "  model.add(x1)\n",
        "  model.add(BatchNormalization())\n",
        "  model.add(LeakyReLU())\n",
        "  model.add(MaxPool1D(pool_size=2,strides=2))\n",
        "\n",
        "  model.add(x1)\n",
        "  model.add(LeakyReLU())\n",
        "  model.add(MaxPool1D(pool_size=2,strides=2))\n",
        "  model.add(Dropout(0.5))\n",
        "\n",
        "  model.add(x)\n",
        "  model.add(LeakyReLU())\n",
        "  model.add(AveragePooling1D(pool_size=2,strides=2))\n",
        "  model.add(Dropout(0.5))\n",
        "\n",
        "\n",
        "#   model.add(Conv1D(filters=5,kernel_size=3,strides=1))\n",
        "#   model.add(LeakyReLU())\n",
        "#   model.add(AveragePooling1D(pool_size=2,strides=1))\n",
        "\n",
        "#   model.add(Conv1D(filters=5,kernel_size=3,strides=1))\n",
        "#   model.add(LeakyReLU())\n",
        "#   model.add(GlobalAveragePooling1D())\n",
        "\n",
        "  model.add(Dense(256, activation='sigmoid'))\n",
        "  model.add(Dropout(0.5))\n",
        "  model.add(Dense(2,activation='softmax'))\n",
        "  model.compile(loss='binary_crossentropy', optimizer='adam', metrics=['accuracy'])\n",
        "  return model\n"
      ],
      "metadata": {
        "id": "PXbFJH17Uh-w"
      },
      "execution_count": 76,
      "outputs": []
    },
    {
      "cell_type": "code",
      "source": [
        "model=cnnmodel()\n",
        "model.summary()"
      ],
      "metadata": {
        "id": "OXA_dzT6aQbZ"
      },
      "execution_count": null,
      "outputs": []
    },
    {
      "cell_type": "code",
      "source": [
        "final_original=pd.read_excel(\"/content/final-original.xlsx\")\n",
        "final_feature_extraction=pd.read_excel(\"/content/final_feature_extraction.xlsx\")"
      ],
      "metadata": {
        "id": "Dos7e6RQTViu"
      },
      "execution_count": null,
      "outputs": []
    },
    {
      "cell_type": "code",
      "source": [
        "print(final_original.shape)"
      ],
      "metadata": {
        "colab": {
          "base_uri": "https://localhost:8080/"
        },
        "id": "iKYc1n4cTjHG",
        "outputId": "7d5d3ca0-62bc-479a-a871-e8e70d2a454e"
      },
      "execution_count": null,
      "outputs": [
        {
          "output_type": "stream",
          "name": "stdout",
          "text": [
            "(1560, 4)\n"
          ]
        }
      ]
    },
    {
      "cell_type": "code",
      "source": [
        "final_feature_extraction.drop(columns = ['Unnamed: 0'], inplace = True)\n",
        "final_original.drop(columns = ['Unnamed: 0'], inplace = True)\n",
        "final_original.columns"
      ],
      "metadata": {
        "colab": {
          "base_uri": "https://localhost:8080/"
        },
        "id": "eX1K43NaUV3l",
        "outputId": "0623476f-a8d9-4ce1-c859-dbf7725d78c0"
      },
      "execution_count": null,
      "outputs": [
        {
          "output_type": "execute_result",
          "data": {
            "text/plain": [
              "Index([0, 1, 2], dtype='object')"
            ]
          },
          "metadata": {},
          "execution_count": 62
        }
      ]
    },
    {
      "cell_type": "code",
      "source": [
        "final_original.columns=['f1','f2','label']\n",
        "# final_original=final_original.drop(columns=['f1','f2'])"
      ],
      "metadata": {
        "id": "ZxPhLmOzUchy"
      },
      "execution_count": null,
      "outputs": []
    },
    {
      "cell_type": "code",
      "source": [
        "X=final_original.drop(columns='label')\n",
        "y=final_original['label']"
      ],
      "metadata": {
        "id": "EFNSm8DNTwpF"
      },
      "execution_count": null,
      "outputs": []
    },
    {
      "cell_type": "code",
      "source": [
        "final_feature_extraction.columns"
      ],
      "metadata": {
        "colab": {
          "base_uri": "https://localhost:8080/"
        },
        "id": "N37fb3vbbKja",
        "outputId": "4dbdb8e7-374d-423c-aad1-50b94452dda7"
      },
      "execution_count": null,
      "outputs": [
        {
          "output_type": "execute_result",
          "data": {
            "text/plain": [
              "Index(['f3', 'f4', 'f5', 'f6', 'f7', 'f10', 'f13', 'label'], dtype='object')"
            ]
          },
          "metadata": {},
          "execution_count": 44
        }
      ]
    },
    {
      "cell_type": "code",
      "source": [
        "final_feature_extraction.columns=['f3','f4','f5','f6','f7','f10','13','label']\n",
        "#final_feature_extraction=final_feature_extraction.drop(columns=['f1','f2'])"
      ],
      "metadata": {
        "id": "zqAx0A_AbPHf"
      },
      "execution_count": null,
      "outputs": []
    },
    {
      "cell_type": "code",
      "source": [
        "final_feature_extraction"
      ],
      "metadata": {
        "id": "sVTIq6qMbbkv",
        "colab": {
          "base_uri": "https://localhost:8080/",
          "height": 423
        },
        "outputId": "5c278560-3d87-4839-b2f1-fa8c33d14c69"
      },
      "execution_count": null,
      "outputs": [
        {
          "output_type": "execute_result",
          "data": {
            "text/plain": [
              "                f3            f4        f5        f6        f7       f10  \\\n",
              "0     1.171130e-09  1.171130e-09  0.000098 -0.000200  0.000298  0.000034   \n",
              "1     1.130703e-09  1.130703e-09  0.000098 -0.000200  0.000298  0.000034   \n",
              "2     1.095033e-09  1.095033e-09  0.000098 -0.000200  0.000298  0.000033   \n",
              "3     1.137828e-09  1.137828e-09  0.000098 -0.000200  0.000298  0.000034   \n",
              "4     8.788463e-10  8.788463e-10  0.000098 -0.000108  0.000206  0.000030   \n",
              "...            ...           ...       ...       ...       ...       ...   \n",
              "1555  5.260746e-09  5.260746e-09  0.000310 -0.000197  0.000507  0.000073   \n",
              "1556  5.006398e-09  5.006398e-09  0.000310 -0.000158  0.000467  0.000071   \n",
              "1557  4.878292e-09  4.878292e-09  0.000310 -0.000158  0.000467  0.000070   \n",
              "1558  4.954571e-09  4.954571e-09  0.000310 -0.000166  0.000476  0.000070   \n",
              "1559  4.871420e-09  4.871420e-09  0.000310 -0.000166  0.000476  0.000070   \n",
              "\n",
              "        13  label  \n",
              "0     2900      0  \n",
              "1     2901      0  \n",
              "2     2902      0  \n",
              "3     2903      0  \n",
              "4     2904      0  \n",
              "...    ...    ...  \n",
              "1555   415      0  \n",
              "1556   416      0  \n",
              "1557   417      0  \n",
              "1558   418      0  \n",
              "1559   419      0  \n",
              "\n",
              "[1560 rows x 8 columns]"
            ],
            "text/html": [
              "\n",
              "  <div id=\"df-940280f9-1334-4e30-be7c-a345e48aeaf9\">\n",
              "    <div class=\"colab-df-container\">\n",
              "      <div>\n",
              "<style scoped>\n",
              "    .dataframe tbody tr th:only-of-type {\n",
              "        vertical-align: middle;\n",
              "    }\n",
              "\n",
              "    .dataframe tbody tr th {\n",
              "        vertical-align: top;\n",
              "    }\n",
              "\n",
              "    .dataframe thead th {\n",
              "        text-align: right;\n",
              "    }\n",
              "</style>\n",
              "<table border=\"1\" class=\"dataframe\">\n",
              "  <thead>\n",
              "    <tr style=\"text-align: right;\">\n",
              "      <th></th>\n",
              "      <th>f3</th>\n",
              "      <th>f4</th>\n",
              "      <th>f5</th>\n",
              "      <th>f6</th>\n",
              "      <th>f7</th>\n",
              "      <th>f10</th>\n",
              "      <th>13</th>\n",
              "      <th>label</th>\n",
              "    </tr>\n",
              "  </thead>\n",
              "  <tbody>\n",
              "    <tr>\n",
              "      <th>0</th>\n",
              "      <td>1.171130e-09</td>\n",
              "      <td>1.171130e-09</td>\n",
              "      <td>0.000098</td>\n",
              "      <td>-0.000200</td>\n",
              "      <td>0.000298</td>\n",
              "      <td>0.000034</td>\n",
              "      <td>2900</td>\n",
              "      <td>0</td>\n",
              "    </tr>\n",
              "    <tr>\n",
              "      <th>1</th>\n",
              "      <td>1.130703e-09</td>\n",
              "      <td>1.130703e-09</td>\n",
              "      <td>0.000098</td>\n",
              "      <td>-0.000200</td>\n",
              "      <td>0.000298</td>\n",
              "      <td>0.000034</td>\n",
              "      <td>2901</td>\n",
              "      <td>0</td>\n",
              "    </tr>\n",
              "    <tr>\n",
              "      <th>2</th>\n",
              "      <td>1.095033e-09</td>\n",
              "      <td>1.095033e-09</td>\n",
              "      <td>0.000098</td>\n",
              "      <td>-0.000200</td>\n",
              "      <td>0.000298</td>\n",
              "      <td>0.000033</td>\n",
              "      <td>2902</td>\n",
              "      <td>0</td>\n",
              "    </tr>\n",
              "    <tr>\n",
              "      <th>3</th>\n",
              "      <td>1.137828e-09</td>\n",
              "      <td>1.137828e-09</td>\n",
              "      <td>0.000098</td>\n",
              "      <td>-0.000200</td>\n",
              "      <td>0.000298</td>\n",
              "      <td>0.000034</td>\n",
              "      <td>2903</td>\n",
              "      <td>0</td>\n",
              "    </tr>\n",
              "    <tr>\n",
              "      <th>4</th>\n",
              "      <td>8.788463e-10</td>\n",
              "      <td>8.788463e-10</td>\n",
              "      <td>0.000098</td>\n",
              "      <td>-0.000108</td>\n",
              "      <td>0.000206</td>\n",
              "      <td>0.000030</td>\n",
              "      <td>2904</td>\n",
              "      <td>0</td>\n",
              "    </tr>\n",
              "    <tr>\n",
              "      <th>...</th>\n",
              "      <td>...</td>\n",
              "      <td>...</td>\n",
              "      <td>...</td>\n",
              "      <td>...</td>\n",
              "      <td>...</td>\n",
              "      <td>...</td>\n",
              "      <td>...</td>\n",
              "      <td>...</td>\n",
              "    </tr>\n",
              "    <tr>\n",
              "      <th>1555</th>\n",
              "      <td>5.260746e-09</td>\n",
              "      <td>5.260746e-09</td>\n",
              "      <td>0.000310</td>\n",
              "      <td>-0.000197</td>\n",
              "      <td>0.000507</td>\n",
              "      <td>0.000073</td>\n",
              "      <td>415</td>\n",
              "      <td>0</td>\n",
              "    </tr>\n",
              "    <tr>\n",
              "      <th>1556</th>\n",
              "      <td>5.006398e-09</td>\n",
              "      <td>5.006398e-09</td>\n",
              "      <td>0.000310</td>\n",
              "      <td>-0.000158</td>\n",
              "      <td>0.000467</td>\n",
              "      <td>0.000071</td>\n",
              "      <td>416</td>\n",
              "      <td>0</td>\n",
              "    </tr>\n",
              "    <tr>\n",
              "      <th>1557</th>\n",
              "      <td>4.878292e-09</td>\n",
              "      <td>4.878292e-09</td>\n",
              "      <td>0.000310</td>\n",
              "      <td>-0.000158</td>\n",
              "      <td>0.000467</td>\n",
              "      <td>0.000070</td>\n",
              "      <td>417</td>\n",
              "      <td>0</td>\n",
              "    </tr>\n",
              "    <tr>\n",
              "      <th>1558</th>\n",
              "      <td>4.954571e-09</td>\n",
              "      <td>4.954571e-09</td>\n",
              "      <td>0.000310</td>\n",
              "      <td>-0.000166</td>\n",
              "      <td>0.000476</td>\n",
              "      <td>0.000070</td>\n",
              "      <td>418</td>\n",
              "      <td>0</td>\n",
              "    </tr>\n",
              "    <tr>\n",
              "      <th>1559</th>\n",
              "      <td>4.871420e-09</td>\n",
              "      <td>4.871420e-09</td>\n",
              "      <td>0.000310</td>\n",
              "      <td>-0.000166</td>\n",
              "      <td>0.000476</td>\n",
              "      <td>0.000070</td>\n",
              "      <td>419</td>\n",
              "      <td>0</td>\n",
              "    </tr>\n",
              "  </tbody>\n",
              "</table>\n",
              "<p>1560 rows × 8 columns</p>\n",
              "</div>\n",
              "      <button class=\"colab-df-convert\" onclick=\"convertToInteractive('df-940280f9-1334-4e30-be7c-a345e48aeaf9')\"\n",
              "              title=\"Convert this dataframe to an interactive table.\"\n",
              "              style=\"display:none;\">\n",
              "        \n",
              "  <svg xmlns=\"http://www.w3.org/2000/svg\" height=\"24px\"viewBox=\"0 0 24 24\"\n",
              "       width=\"24px\">\n",
              "    <path d=\"M0 0h24v24H0V0z\" fill=\"none\"/>\n",
              "    <path d=\"M18.56 5.44l.94 2.06.94-2.06 2.06-.94-2.06-.94-.94-2.06-.94 2.06-2.06.94zm-11 1L8.5 8.5l.94-2.06 2.06-.94-2.06-.94L8.5 2.5l-.94 2.06-2.06.94zm10 10l.94 2.06.94-2.06 2.06-.94-2.06-.94-.94-2.06-.94 2.06-2.06.94z\"/><path d=\"M17.41 7.96l-1.37-1.37c-.4-.4-.92-.59-1.43-.59-.52 0-1.04.2-1.43.59L10.3 9.45l-7.72 7.72c-.78.78-.78 2.05 0 2.83L4 21.41c.39.39.9.59 1.41.59.51 0 1.02-.2 1.41-.59l7.78-7.78 2.81-2.81c.8-.78.8-2.07 0-2.86zM5.41 20L4 18.59l7.72-7.72 1.47 1.35L5.41 20z\"/>\n",
              "  </svg>\n",
              "      </button>\n",
              "      \n",
              "  <style>\n",
              "    .colab-df-container {\n",
              "      display:flex;\n",
              "      flex-wrap:wrap;\n",
              "      gap: 12px;\n",
              "    }\n",
              "\n",
              "    .colab-df-convert {\n",
              "      background-color: #E8F0FE;\n",
              "      border: none;\n",
              "      border-radius: 50%;\n",
              "      cursor: pointer;\n",
              "      display: none;\n",
              "      fill: #1967D2;\n",
              "      height: 32px;\n",
              "      padding: 0 0 0 0;\n",
              "      width: 32px;\n",
              "    }\n",
              "\n",
              "    .colab-df-convert:hover {\n",
              "      background-color: #E2EBFA;\n",
              "      box-shadow: 0px 1px 2px rgba(60, 64, 67, 0.3), 0px 1px 3px 1px rgba(60, 64, 67, 0.15);\n",
              "      fill: #174EA6;\n",
              "    }\n",
              "\n",
              "    [theme=dark] .colab-df-convert {\n",
              "      background-color: #3B4455;\n",
              "      fill: #D2E3FC;\n",
              "    }\n",
              "\n",
              "    [theme=dark] .colab-df-convert:hover {\n",
              "      background-color: #434B5C;\n",
              "      box-shadow: 0px 1px 3px 1px rgba(0, 0, 0, 0.15);\n",
              "      filter: drop-shadow(0px 1px 2px rgba(0, 0, 0, 0.3));\n",
              "      fill: #FFFFFF;\n",
              "    }\n",
              "  </style>\n",
              "\n",
              "      <script>\n",
              "        const buttonEl =\n",
              "          document.querySelector('#df-940280f9-1334-4e30-be7c-a345e48aeaf9 button.colab-df-convert');\n",
              "        buttonEl.style.display =\n",
              "          google.colab.kernel.accessAllowed ? 'block' : 'none';\n",
              "\n",
              "        async function convertToInteractive(key) {\n",
              "          const element = document.querySelector('#df-940280f9-1334-4e30-be7c-a345e48aeaf9');\n",
              "          const dataTable =\n",
              "            await google.colab.kernel.invokeFunction('convertToInteractive',\n",
              "                                                     [key], {});\n",
              "          if (!dataTable) return;\n",
              "\n",
              "          const docLinkHtml = 'Like what you see? Visit the ' +\n",
              "            '<a target=\"_blank\" href=https://colab.research.google.com/notebooks/data_table.ipynb>data table notebook</a>'\n",
              "            + ' to learn more about interactive tables.';\n",
              "          element.innerHTML = '';\n",
              "          dataTable['output_type'] = 'display_data';\n",
              "          await google.colab.output.renderOutput(dataTable, element);\n",
              "          const docLink = document.createElement('div');\n",
              "          docLink.innerHTML = docLinkHtml;\n",
              "          element.appendChild(docLink);\n",
              "        }\n",
              "      </script>\n",
              "    </div>\n",
              "  </div>\n",
              "  "
            ]
          },
          "metadata": {},
          "execution_count": 48
        }
      ]
    },
    {
      "cell_type": "code",
      "source": [
        "model.fit"
      ],
      "metadata": {
        "id": "DaqlfbgumYop"
      },
      "execution_count": null,
      "outputs": []
    }
  ]
}